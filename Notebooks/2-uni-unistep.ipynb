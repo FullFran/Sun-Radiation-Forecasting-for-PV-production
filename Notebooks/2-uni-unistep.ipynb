{
 "cells": [
  {
   "cell_type": "code",
   "execution_count": 38,
   "metadata": {},
   "outputs": [],
   "source": [
    "import pandas as pd\n",
    "import numpy as np\n",
    "import matplotlib.pyplot as plt\n",
    "\n",
    "\n",
    "df = pd.read_csv(\"..\\\\Data\\\\Timeseries_36.927_-2.374_SA2_34deg_0deg_2005_2020 (1).csv\")    "
   ]
  },
  {
   "cell_type": "markdown",
   "metadata": {},
   "source": [
    "# Univariated-unistep LSTM model.\n",
    "\n",
    "We are goint to test an LSTM to predict de solar radiation from de historical solar radiation."
   ]
  },
  {
   "cell_type": "code",
   "execution_count": 39,
   "metadata": {},
   "outputs": [],
   "source": [
    "# packages for the model\n",
    "from tensorflow.keras.models import Sequential\n",
    "from tensorflow.keras.layers import Dense, LSTM\n",
    "from tensorflow.keras.optimizers import RMSprop # Optimizer for the model (RMSprop is a good choice)    \n",
    "\n",
    "import tensorflow as tf    \n",
    "\n",
    "# Set the seed for reproducibility\n",
    "tf.random.set_seed(1234)   \n",
    "\n",
    "# Uncoment the following line to enable op determinism to ensure reproducibility despite parallelism\n",
    "tf.config.experimental.enable_op_determinism()"
   ]
  },
  {
   "cell_type": "code",
   "execution_count": null,
   "metadata": {},
   "outputs": [],
   "source": []
  },
  {
   "cell_type": "markdown",
   "metadata": {},
   "source": [
    "## Data preprocesing\n",
    "\n"
   ]
  },
  {
   "cell_type": "code",
   "execution_count": 40,
   "metadata": {},
   "outputs": [],
   "source": [
    "def train_val_test_split(serie, tr_size=0.8, vl_size=0.1, ts_size=0.1):\n",
    "    # Split the data\n",
    "    n = len(serie)\n",
    "    n_tr = int(n*tr_size)\n",
    "    n_vl = int(n*vl_size)\n",
    "    n_ts = n - n_tr - n_vl\n",
    "    \n",
    "    train = serie[:n_tr]\n",
    "    val = serie[n_tr:n_tr+n_vl]\n",
    "    test = serie[n_tr+n_vl:]\n",
    "    \n",
    "    return train, val, test"
   ]
  },
  {
   "cell_type": "code",
   "execution_count": 41,
   "metadata": {},
   "outputs": [],
   "source": [
    "df2 = df[[\"time\", \"Gr(i)\"]].copy()\n",
    "\n",
    "# pass the date to datetime\n",
    "df2[\"time\"] = pd.to_datetime(df2[\"time\"], format='%Y%m%d:%H%M')\n"
   ]
  },
  {
   "cell_type": "code",
   "execution_count": 43,
   "metadata": {},
   "outputs": [
    {
     "name": "stdout",
     "output_type": "stream",
     "text": [
      "Train size:  112204\n",
      "Validation size:  14025\n",
      "Test size:  14027\n"
     ]
    }
   ],
   "source": [
    "# Separete the data in train, validation and test\n",
    "train, val, test = train_val_test_split(df2[\"Gr(i)\"])\n",
    "\n",
    "print(\"Train size: \", len(train))\n",
    "print(\"Validation size: \", len(val))\n",
    "print(\"Test size: \", len(test))\n"
   ]
  },
  {
   "cell_type": "code",
   "execution_count": 44,
   "metadata": {},
   "outputs": [],
   "source": [
    "# Dataset creation\n",
    "\n",
    "data = df2[\"Gr(i)\"].values\n",
    "\n",
    "def supervised_dataset(data, input_length, output_length):\n",
    "    \n",
    "    X, Y = [], []\n",
    "    \n",
    "    shape = data.shape\n",
    "    \n",
    "    if len(shape) == 1:\n",
    "        rows, cols = data.shape[0], 1\n",
    "        data = data.reshape(rows,cols)\n",
    "    else:\n",
    "        rows, cols = shape\n",
    "\n",
    "    for i in range(rows-input_length-output_length):\n",
    "        X.append(data[i:i+input_length, 0:rows])\n",
    "        Y.append(data[i+input_length:i+input_length+output_length,-1].reshape(output_length,1))\n",
    "    \n",
    "    return np.array(X), np.array(Y)        \n",
    "\n",
    "\n"
   ]
  },
  {
   "cell_type": "code",
   "execution_count": 45,
   "metadata": {},
   "outputs": [],
   "source": [
    "input_length = 24\n",
    "output_length = 1\n",
    "\n",
    "X_train, Y_train = supervised_dataset(train.values, input_length, output_length)\n",
    "X_val, Y_val = supervised_dataset(val.values, input_length, output_length)\n",
    "X_test, Y_test = supervised_dataset(test.values, input_length, output_length)\n"
   ]
  },
  {
   "cell_type": "code",
   "execution_count": 46,
   "metadata": {},
   "outputs": [
    {
     "name": "stdout",
     "output_type": "stream",
     "text": [
      "Input shape:  (112179, 24, 1)\n",
      "Training set: x_tr: (112179, 24, 1), Y_tr: (112179, 1, 1)\n",
      "Validation set: x_val: (14000, 24, 1), Y_val: (14000, 1, 1)\n",
      "Test set: x_ts: (14002, 24, 1), Y_ts: (14002, 1, 1)\n"
     ]
    }
   ],
   "source": [
    "print(\"Input shape: \", X_train.shape)\n",
    "\n",
    "print(f\"Training set: x_tr: {X_train.shape}, Y_tr: {Y_train.shape}\")\n",
    "print(f\"Validation set: x_val: {X_val.shape}, Y_val: {Y_val.shape}\")\n",
    "print(f\"Test set: x_ts: {X_test.shape}, Y_ts: {Y_test.shape}\")"
   ]
  },
  {
   "cell_type": "code",
   "execution_count": 47,
   "metadata": {},
   "outputs": [],
   "source": [
    "# we have to reescale the data\n",
    "from sklearn.preprocessing import MinMaxScaler\n",
    "\n",
    "def scale_dataset(data_input):\n",
    "    n_features = data_input[\"x_tr\"].shape[2]\n",
    "    \n",
    "    scalers = [MinMaxScaler(feature_range=(-1,1)) for i in range(n_features)]\n",
    "    \n",
    "    x_tr_s = np.zeros(data_input['x_tr'].shape)\n",
    "    x_vl_s = np.zeros(data_input['x_vl'].shape)\n",
    "    x_ts_s = np.zeros(data_input['x_ts'].shape)\n",
    "    y_tr_s = np.zeros(data_input['y_tr'].shape)\n",
    "    y_vl_s = np.zeros(data_input['y_vl'].shape)\n",
    "    y_ts_s = np.zeros(data_input['y_ts'].shape)\n",
    "\n",
    "    x_tr = data_input['x_tr']\n",
    "    x_vl = data_input['x_vl']\n",
    "    x_ts = data_input['x_ts']\n",
    "    \n",
    "    y_tr = data_input['y_tr']\n",
    "    y_vl = data_input['y_vl']\n",
    "    y_ts = data_input['y_ts']\n",
    "    \n",
    "    \n",
    "    for i in range(n_features):\n",
    "        x_tr_s[:,:,i] = scalers[i].fit_transform(x_tr[:,:,i])\n",
    "        x_vl_s[:,:,i] = scalers[i].transform(x_vl[:,:,i])\n",
    "        x_ts_s[:,:,i] = scalers[i].transform(x_ts[:,:,i])\n",
    "    \n",
    "    y_tr_s[:,:,0] = scalers[-1].fit_transform(y_tr[:,:,0])\n",
    "    y_vl_s[:,:,0] = scalers[-1].transform(y_vl[:,:,0])\n",
    "    y_ts_s[:,:,0] = scalers[-1].transform(y_ts[:,:,0])\n",
    "\n",
    "   \n",
    "    data_scaled = {\n",
    "        \"x_tr_s\": x_tr_s, \"y_tr_s\": y_tr_s,\n",
    "        \"x_vl_s\": x_vl_s, \"y_vl_s\": y_vl_s,\n",
    "        \"x_ts_s\": x_ts_s, \"y_ts_s\": y_ts_s,\n",
    "        }\n",
    "    return data_scaled, scalers[0]"
   ]
  },
  {
   "cell_type": "code",
   "execution_count": 48,
   "metadata": {},
   "outputs": [],
   "source": [
    "data_input = {\n",
    "    \"x_tr\": X_train, \"y_tr\": Y_train,\n",
    "    \"x_vl\": X_val, \"y_vl\": Y_val,\n",
    "    \"x_ts\": X_test, \"y_ts\": Y_test\n",
    "    }\n",
    "\n",
    "data_scaled, scaler = scale_dataset(data_input)\n",
    "\n",
    "x_tr_s, y_tr_s = data_scaled['x_tr_s'], data_scaled['y_tr_s']\n",
    "x_vl_s, y_vl_s = data_scaled['x_vl_s'], data_scaled['y_vl_s']\n",
    "x_ts_s, y_ts_s = data_scaled['x_ts_s'], data_scaled['y_ts_s']"
   ]
  },
  {
   "cell_type": "markdown",
   "metadata": {},
   "source": [
    "# Creating the LSTM"
   ]
  },
  {
   "cell_type": "code",
   "execution_count": 49,
   "metadata": {},
   "outputs": [
    {
     "name": "stderr",
     "output_type": "stream",
     "text": [
      "c:\\Users\\Idener\\miniconda3\\envs\\T2_4\\Lib\\site-packages\\keras\\src\\layers\\rnn\\rnn.py:204: UserWarning: Do not pass an `input_shape`/`input_dim` argument to a layer. When using Sequential models, prefer using an `Input(shape)` object as the first layer in the model instead.\n",
      "  super().__init__(**kwargs)\n"
     ]
    }
   ],
   "source": [
    "n_units = 128\n",
    "\n",
    "input_shape = (x_tr_s.shape[1], x_tr_s.shape[2])\n",
    "\n",
    "model = Sequential()\n",
    "model.add(LSTM(n_units, input_shape=input_shape)) \n",
    "model.add(Dense(output_length, activation='linear'))\n",
    "\n",
    "def rmse(y_true, y_pred):\n",
    "    return tf.sqrt(tf.reduce_mean(tf.square(y_pred - y_true)))\n",
    "\n",
    "optimizer = RMSprop(learning_rate=5e-5)\n",
    "\n",
    "model.compile(\n",
    "    optimizer=optimizer,\n",
    "    loss=rmse,\n",
    ")"
   ]
  },
  {
   "cell_type": "code",
   "execution_count": 50,
   "metadata": {},
   "outputs": [
    {
     "name": "stdout",
     "output_type": "stream",
     "text": [
      "Epoch 1/50\n",
      "3506/3506 - 19s - 5ms/step - loss: 0.2131 - val_loss: 0.1490\n",
      "Epoch 2/50\n",
      "3506/3506 - 19s - 5ms/step - loss: 0.1219 - val_loss: 0.1259\n",
      "Epoch 3/50\n",
      "3506/3506 - 21s - 6ms/step - loss: 0.1136 - val_loss: 0.1148\n",
      "Epoch 4/50\n",
      "3506/3506 - 22s - 6ms/step - loss: 0.1096 - val_loss: 0.1102\n",
      "Epoch 5/50\n",
      "3506/3506 - 20s - 6ms/step - loss: 0.1076 - val_loss: 0.1060\n",
      "Epoch 6/50\n",
      "3506/3506 - 20s - 6ms/step - loss: 0.1061 - val_loss: 0.1010\n",
      "Epoch 7/50\n",
      "3506/3506 - 19s - 6ms/step - loss: 0.1048 - val_loss: 0.0971\n",
      "Epoch 8/50\n",
      "3506/3506 - 19s - 5ms/step - loss: 0.1039 - val_loss: 0.0949\n",
      "Epoch 9/50\n",
      "3506/3506 - 22s - 6ms/step - loss: 0.1032 - val_loss: 0.0936\n",
      "Epoch 10/50\n",
      "3506/3506 - 20s - 6ms/step - loss: 0.1026 - val_loss: 0.0926\n",
      "Epoch 11/50\n",
      "3506/3506 - 20s - 6ms/step - loss: 0.1021 - val_loss: 0.0917\n",
      "Epoch 12/50\n",
      "3506/3506 - 20s - 6ms/step - loss: 0.1017 - val_loss: 0.0908\n",
      "Epoch 13/50\n",
      "3506/3506 - 20s - 6ms/step - loss: 0.1013 - val_loss: 0.0900\n",
      "Epoch 14/50\n",
      "3506/3506 - 28s - 8ms/step - loss: 0.1009 - val_loss: 0.0892\n",
      "Epoch 15/50\n",
      "3506/3506 - 27s - 8ms/step - loss: 0.1006 - val_loss: 0.0884\n",
      "Epoch 16/50\n",
      "3506/3506 - 30s - 8ms/step - loss: 0.1004 - val_loss: 0.0877\n",
      "Epoch 17/50\n",
      "3506/3506 - 21s - 6ms/step - loss: 0.1001 - val_loss: 0.0871\n",
      "Epoch 18/50\n",
      "3506/3506 - 26s - 7ms/step - loss: 0.0999 - val_loss: 0.0866\n",
      "Epoch 19/50\n",
      "3506/3506 - 26s - 7ms/step - loss: 0.0997 - val_loss: 0.0861\n",
      "Epoch 20/50\n",
      "3506/3506 - 28s - 8ms/step - loss: 0.0995 - val_loss: 0.0856\n",
      "Epoch 21/50\n",
      "3506/3506 - 31s - 9ms/step - loss: 0.0993 - val_loss: 0.0852\n",
      "Epoch 22/50\n",
      "3506/3506 - 30s - 9ms/step - loss: 0.0991 - val_loss: 0.0849\n",
      "Epoch 23/50\n",
      "3506/3506 - 25s - 7ms/step - loss: 0.0990 - val_loss: 0.0845\n",
      "Epoch 24/50\n",
      "3506/3506 - 28s - 8ms/step - loss: 0.0988 - val_loss: 0.0843\n",
      "Epoch 25/50\n",
      "3506/3506 - 29s - 8ms/step - loss: 0.0987 - val_loss: 0.0840\n",
      "Epoch 26/50\n",
      "3506/3506 - 29s - 8ms/step - loss: 0.0985 - val_loss: 0.0837\n",
      "Epoch 27/50\n",
      "3506/3506 - 30s - 8ms/step - loss: 0.0984 - val_loss: 0.0835\n",
      "Epoch 28/50\n",
      "3506/3506 - 31s - 9ms/step - loss: 0.0983 - val_loss: 0.0833\n",
      "Epoch 29/50\n",
      "3506/3506 - 26s - 7ms/step - loss: 0.0981 - val_loss: 0.0831\n",
      "Epoch 30/50\n",
      "3506/3506 - 30s - 9ms/step - loss: 0.0980 - val_loss: 0.0829\n",
      "Epoch 31/50\n",
      "3506/3506 - 27s - 8ms/step - loss: 0.0979 - val_loss: 0.0827\n",
      "Epoch 32/50\n",
      "3506/3506 - 22s - 6ms/step - loss: 0.0978 - val_loss: 0.0826\n",
      "Epoch 33/50\n",
      "3506/3506 - 21s - 6ms/step - loss: 0.0977 - val_loss: 0.0824\n",
      "Epoch 34/50\n",
      "3506/3506 - 30s - 8ms/step - loss: 0.0976 - val_loss: 0.0823\n",
      "Epoch 35/50\n",
      "3506/3506 - 32s - 9ms/step - loss: 0.0975 - val_loss: 0.0821\n",
      "Epoch 36/50\n",
      "3506/3506 - 30s - 9ms/step - loss: 0.0974 - val_loss: 0.0820\n",
      "Epoch 37/50\n",
      "3506/3506 - 30s - 8ms/step - loss: 0.0973 - val_loss: 0.0819\n",
      "Epoch 38/50\n",
      "3506/3506 - 31s - 9ms/step - loss: 0.0972 - val_loss: 0.0817\n",
      "Epoch 39/50\n",
      "3506/3506 - 33s - 10ms/step - loss: 0.0971 - val_loss: 0.0816\n",
      "Epoch 40/50\n",
      "3506/3506 - 30s - 8ms/step - loss: 0.0971 - val_loss: 0.0815\n",
      "Epoch 41/50\n",
      "3506/3506 - 31s - 9ms/step - loss: 0.0970 - val_loss: 0.0814\n",
      "Epoch 42/50\n",
      "3506/3506 - 31s - 9ms/step - loss: 0.0969 - val_loss: 0.0813\n",
      "Epoch 43/50\n",
      "3506/3506 - 30s - 9ms/step - loss: 0.0968 - val_loss: 0.0812\n",
      "Epoch 44/50\n",
      "3506/3506 - 27s - 8ms/step - loss: 0.0967 - val_loss: 0.0811\n",
      "Epoch 45/50\n",
      "3506/3506 - 20s - 6ms/step - loss: 0.0967 - val_loss: 0.0810\n",
      "Epoch 46/50\n",
      "3506/3506 - 22s - 6ms/step - loss: 0.0966 - val_loss: 0.0810\n",
      "Epoch 47/50\n",
      "3506/3506 - 22s - 6ms/step - loss: 0.0965 - val_loss: 0.0809\n",
      "Epoch 48/50\n",
      "3506/3506 - 21s - 6ms/step - loss: 0.0964 - val_loss: 0.0808\n",
      "Epoch 49/50\n",
      "3506/3506 - 22s - 6ms/step - loss: 0.0964 - val_loss: 0.0807\n",
      "Epoch 50/50\n",
      "3506/3506 - 20s - 6ms/step - loss: 0.0963 - val_loss: 0.0806\n"
     ]
    }
   ],
   "source": [
    "epochs = 50\n",
    "batch_size = 32\n",
    "\n",
    "history = model.fit(\n",
    "    x = x_tr_s, y = y_tr_s,\n",
    "    batch_size = batch_size,\n",
    "    epochs = epochs,\n",
    "    validation_data = (x_vl_s, y_vl_s),\n",
    "    verbose = 2\n",
    ") "
   ]
  },
  {
   "cell_type": "code",
   "execution_count": 61,
   "metadata": {},
   "outputs": [
    {
     "data": {
      "image/png": "[encoded data removed]",
      "text/plain": [
       "<Figure size 640x480 with 1 Axes>"
      ]
     },
     "metadata": {},
     "output_type": "display_data"
    }
   ],
   "source": [
    "plt.plot(history.history['loss'], label='train')  \n",
    "plt.plot(history.history['val_loss'], label='validation')    \n",
    "plt.show()     "
   ]
  },
  {
   "cell_type": "code",
   "execution_count": 51,
   "metadata": {},
   "outputs": [],
   "source": [
    "rmse_tr = model.evaluate(x=x_tr_s, y=y_tr_s, verbose=0)\n",
    "rmse_vl = model.evaluate(x=x_vl_s, y=y_vl_s, verbose=0)\n",
    "rmse_ts = model.evaluate(x=x_ts_s, y=y_ts_s, verbose=0)"
   ]
  },
  {
   "cell_type": "code",
   "execution_count": 52,
   "metadata": {},
   "outputs": [
    {
     "name": "stdout",
     "output_type": "stream",
     "text": [
      "comparison:\n",
      "  RMSE train:\t 0.083\n",
      "  RMSE val:\t 0.081\n",
      "  RMSE test:\t 0.068\n"
     ]
    }
   ],
   "source": [
    "print('comparison:')\n",
    "print(f'  RMSE train:\\t {rmse_tr:.3f}')\n",
    "print(f'  RMSE val:\\t {rmse_vl:.3f}')\n",
    "print(f'  RMSE test:\\t {rmse_ts:.3f}')"
   ]
  },
  {
   "cell_type": "code",
   "execution_count": 62,
   "metadata": {},
   "outputs": [
    {
     "data": {
      "image/png": "[encoded data removed]",
      "text/plain": [
       "<Figure size 640x480 with 1 Axes>"
      ]
     },
     "metadata": {},
     "output_type": "display_data"
    }
   ],
   "source": [
    "def predecir(x, model, scaler):\n",
    "    # Calcular predicción escalada en el rango de -1 a 1\n",
    "    y_pred_s = model.predict(x,verbose=0)\n",
    "\n",
    "    # Llevar la predicción a la escala original\n",
    "    y_pred = scaler.inverse_transform(y_pred_s)\n",
    "\n",
    "    return y_pred.flatten()\n",
    "\n",
    "y_ts_pred = predecir(x_ts_s, model, scaler)\n",
    "N = len(y_ts_pred)    # Número de predicciones (tamaño del set de prueba)\n",
    "ndato = np.linspace(1,N,N)\n",
    "\n",
    "# Cálculo de errores simples\n",
    "errores = Y_test.flatten()-y_ts_pred\n",
    "plt.plot(errores);"
   ]
  },
  {
   "cell_type": "code",
   "execution_count": 73,
   "metadata": {},
   "outputs": [
    {
     "data": {
      "image/png": "[encoded data removed]",
      "text/plain": [
       "<Figure size 640x480 with 1 Axes>"
      ]
     },
     "metadata": {},
     "output_type": "display_data"
    }
   ],
   "source": [
    "inter0 = 0\n",
    "interval = 24 * 365 * 2\n",
    "\n",
    "plt.plot(Y_test[inter0:interval].flatten(), label='Real')\n",
    "plt.plot(y_ts_pred[inter0:interval], label='Predicción')\n",
    "\n",
    "plt.legend()\n",
    "plt.show()"
   ]
  },
  {
   "cell_type": "code",
   "execution_count": 36,
   "metadata": {},
   "outputs": [
    {
     "name": "stdout",
     "output_type": "stream",
     "text": [
      "(851,)\n"
     ]
    }
   ],
   "source": []
  }
 ],
 "metadata": {
  "kernelspec": {
   "display_name": "T2_4",
   "language": "python",
   "name": "python3"
  },
  "language_info": {
   "codemirror_mode": {
    "name": "ipython",
    "version": 3
   },
   "file_extension": ".py",
   "mimetype": "text/x-python",
   "name": "python",
   "nbconvert_exporter": "python",
   "pygments_lexer": "ipython3",
   "version": "3.12.2"
  }
 },
 "nbformat": 4,
 "nbformat_minor": 2
}
